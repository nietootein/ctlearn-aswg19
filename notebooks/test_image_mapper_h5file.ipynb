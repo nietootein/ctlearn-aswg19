{
 "cells": [
  {
   "cell_type": "code",
   "execution_count": null,
   "metadata": {},
   "outputs": [],
   "source": [
    "# Image mapper demonstrator\n",
    "# Author: Tjark Miener, Universidad Complutense de Madrid (tmiener@ucm.es)\n",
    "\n",
    "from ctlearn.image_mapping import ImageMapper\n",
    "import numpy as np\n",
    "import matplotlib.pyplot as plt\n",
    "from tables import *\n",
    "from astropy.io import fits\n",
    "%matplotlib inline"
   ]
  },
  {
   "cell_type": "code",
   "execution_count": null,
   "metadata": {},
   "outputs": [],
   "source": [
    "# plotting function \n",
    "def plot_image(mapper, camera_type):\n",
    "    print(camera_type)\n",
    "    image = mapper.map_image(test_pixel_values[camera_type], camera_type)\n",
    "    fig, ax = plt.subplots(1)\n",
    "    ax.set_aspect(1)\n",
    "    ax.pcolor(image[:,:,0], cmap='viridis')\n",
    "    plt.show()"
   ]
  },
  {
   "cell_type": "code",
   "execution_count": null,
   "metadata": {},
   "outputs": [],
   "source": [
    "# Load the image mappers\n",
    "cam_types = ['FlashCam','LSTCam']\n",
    "hex_algos = ['oversampling', 'rebinning', 'nearest_interpolation',\n",
    "             'bilinear_interpolation', 'bicubic_interpolation', \n",
    "             'image_shifting', 'axial_addressing']\n",
    "\n",
    "mappers = {}\n",
    "for hex_algo in hex_algos:\n",
    "    print(hex_algo)\n",
    "    hex_conversion_algorithm = {cam: hex_algo for cam in cam_types}\n",
    "    %time mappers[hex_algo]=ImageMapper(camera_types=cam_types,hex_conversion_algorithm=hex_conversion_algorithm)"
   ]
  },
  {
   "cell_type": "code",
   "execution_count": null,
   "metadata": {
    "scrolled": true
   },
   "outputs": [],
   "source": [
    "#  pixel values (value is the pixel number)\n",
    "f = open_file('../data/dl1-data-handler/proton_20deg_0deg_runs100-103___cta-prod3-demo_desert-2150m-Paranal-baseline-sample.h5', 'r')\n",
    "LST_images = f.root.LST_LSTCam.col('charge')\n",
    "Flash_images = f.root.MST_FlashCam.col('charge')\n",
    "\n",
    "image_charge_values = {}\n",
    "image_charge_dict = {}\n",
    "LST_image_index = 9\n",
    "Flash_image_index = 77\n",
    "for cam in cam_types:\n",
    "        if cam == 'LSTCam':\n",
    "            image_charge = LST_images[LST_image_index]\n",
    "            file = \"./pixel_pos_files/LSTCam.camgeom.fits\"\n",
    "        elif cam == 'FlashCam':\n",
    "            image_charge = Flash_images[Flash_image_index]\n",
    "            file = \"./pixel_pos_files/FlashCam.camgeom.fits\"\n",
    "            \n",
    "        # read the pixel positions from the fits file\n",
    "        hdul = fits.open(file)\n",
    "        data = hdul[1].data\n",
    "        header = hdul[1].header\n",
    "        x = data.field('pix_x')\n",
    "        y = data.field('pix_y')\n",
    "        pos = np.column_stack([x,y]).T\n",
    "\n",
    "        # set up the image charge in the right form to pass to the map_image function\n",
    "        image_charge_values[cam] = np.concatenate(([0.0], image_charge))\n",
    "        image_charge_values[cam] = np.expand_dims(image_charge_values[cam], axis=1)\n",
    "        \n",
    "        # plot the image charge in a hexagonal lattice (this is what the camera sees)\n",
    "        print(\"{} - hexagonal\".format(cam))\n",
    "        plt.figure()\n",
    "        plt.scatter(pos[0],pos[1],c=image_charge,s=15,marker='H')\n",
    "        plt.axes().set_aspect('equal')\n",
    "        plt.show()\n",
    "        plt.close()\n",
    "        \n",
    "        for hex_algo in hex_algos:\n",
    "            print(\"{} - {}\".format(cam, hex_algo))\n",
    "            image_charge_dict[cam] = mappers[hex_algo].map_image(image_charge_values[cam], cam)\n",
    "            # Create vectorial grapics for each telescope camera with oversampling.\n",
    "            plt.figure()\n",
    "            plt.pcolor(image_charge_dict[cam][:,:,0],cmap='viridis')\n",
    "            plt.axes().set_aspect('equal')\n",
    "            plt.show()\n",
    "            plt.close()"
   ]
  }
 ],
 "metadata": {
  "kernelspec": {
   "display_name": "Python 3",
   "language": "python",
   "name": "python3"
  },
  "language_info": {
   "codemirror_mode": {
    "name": "ipython",
    "version": 3
   },
   "file_extension": ".py",
   "mimetype": "text/x-python",
   "name": "python",
   "nbconvert_exporter": "python",
   "pygments_lexer": "ipython3",
   "version": "3.6.5"
  }
 },
 "nbformat": 4,
 "nbformat_minor": 1
}

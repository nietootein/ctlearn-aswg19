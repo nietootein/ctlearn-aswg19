{
 "cells": [
  {
   "cell_type": "markdown",
   "metadata": {},
   "source": [
    "### For data produced with DL1DH v0.7.4 (DL1_ML2)"
   ]
  },
  {
   "cell_type": "code",
   "execution_count": null,
   "metadata": {},
   "outputs": [],
   "source": [
    "import tables\n",
    "import numpy as np\n",
    "import matplotlib.pyplot as plt\n",
    "from ctapipe.instrument.camera import CameraGeometry\n",
    "%matplotlib inline"
   ]
  },
  {
   "cell_type": "code",
   "execution_count": null,
   "metadata": {},
   "outputs": [],
   "source": [
    "f = tables.open_file(\"/data2/deeplearning/datasets/DL1_ML2/Paranal/gamma-diffuse/South/train/gamma_20deg_180deg_runs1-1576___cta-prod3-demo_desert-2150m-Paranal-baseline_cone10.h5\", \"r\")"
   ]
  },
  {
   "cell_type": "markdown",
   "metadata": {},
   "source": [
    "### Provenance information stored as attributes\n",
    "\n",
    "* Versions of involved code\n",
    "* Corsika and simtel main parameters\n",
    "* Simtel filenames"
   ]
  },
  {
   "cell_type": "code",
   "execution_count": null,
   "metadata": {},
   "outputs": [],
   "source": [
    "f.root._v_attrs"
   ]
  },
  {
   "cell_type": "markdown",
   "metadata": {},
   "source": [
    "### Flat file structure: everything else is stored as tables\n",
    "\n",
    "* Three tables containing:\n",
    "    + Array information\n",
    "    + Telescope type information\n",
    "    + Event information\n",
    "* Plus one table per telescope containing:\n",
    "    + 2x 1D arrays with calibrated pixels data per image (charge, arrival time)"
   ]
  },
  {
   "cell_type": "code",
   "execution_count": null,
   "metadata": {},
   "outputs": [],
   "source": [
    "for node in f:\n",
    "    print(node)"
   ]
  },
  {
   "cell_type": "markdown",
   "metadata": {},
   "source": [
    "### Array information table"
   ]
  },
  {
   "cell_type": "code",
   "execution_count": null,
   "metadata": {},
   "outputs": [],
   "source": [
    "f.root.Array_Information"
   ]
  },
  {
   "cell_type": "code",
   "execution_count": null,
   "metadata": {},
   "outputs": [],
   "source": [
    "tel_types=['LST_LSTCam','MST_FlashCam','SST1M_DigiCam']\n",
    "\n",
    "arr_table=f.root.Array_Information\n",
    "\n",
    "fig, ax = plt.subplots(figsize=(10,10))\n",
    "\n",
    "for tel_type in tel_types:\n",
    "    tel_x = [x['x'] for x in arr_table.iterrows() if x['type'] == tel_type.encode('ascii')]\n",
    "    tel_y = [x['y'] for x in arr_table.iterrows() if x['type'] == tel_type.encode('ascii')]\n",
    "    plt.scatter(tel_x, tel_y, label=tel_type)\n",
    "    \n",
    "ax.legend()\n",
    "ax.grid()\n",
    "plt.show()"
   ]
  },
  {
   "cell_type": "markdown",
   "metadata": {},
   "source": [
    "### Telescope information table"
   ]
  },
  {
   "cell_type": "code",
   "execution_count": null,
   "metadata": {},
   "outputs": [],
   "source": [
    "f.root.Telescope_Type_Information"
   ]
  },
  {
   "cell_type": "markdown",
   "metadata": {},
   "source": [
    "### Event information table"
   ]
  },
  {
   "cell_type": "code",
   "execution_count": null,
   "metadata": {},
   "outputs": [],
   "source": [
    "f.root.Events"
   ]
  },
  {
   "cell_type": "markdown",
   "metadata": {},
   "source": [
    "### Example 1: extract some infos from a given event"
   ]
  },
  {
   "cell_type": "code",
   "execution_count": null,
   "metadata": {},
   "outputs": [],
   "source": [
    "event_index = 178\n",
    "my_event = f.root.Events[event_index]\n",
    "print('Event number: {}'.format(my_event['event_id']))\n",
    "print('Energy: {} TeV'.format(my_event['mc_energy']))\n",
    "print('x: {} m, y: {} m'.format(my_event['core_x'],my_event['core_y']))\n",
    "print('Alt: {} rad'.format(my_event['alt']))\n",
    "print('Az: {} rad'.format(my_event['az']))\n",
    "tel_types = ['LST_LSTCam','MST_FlashCam','SST1M_DigiCam']\n",
    "for tel_type in tel_types:\n",
    "    tel_indices = '{}_indices'.format(tel_type)\n",
    "    print('{} = {}'.format(tel_indices,my_event[tel_indices]))"
   ]
  },
  {
   "cell_type": "markdown",
   "metadata": {},
   "source": [
    "#### Example 2: plot all charge and arrival time images for a given event"
   ]
  },
  {
   "cell_type": "code",
   "execution_count": null,
   "metadata": {
    "scrolled": false
   },
   "outputs": [],
   "source": [
    "tel_types = ['LST_LSTCam','MST_FlashCam','SST1M_DigiCam']\n",
    "\n",
    "tel_type_size={'LST_LSTCam':15,'MST_FlashCam':15,'SST1M_DigiCam':15} #Size of the scatter plot point, for visualization purposes only\n",
    "\n",
    "tel_table=f.root.Telescope_Type_Information\n",
    "\n",
    "saveplots = False\n",
    "combine = False\n",
    "\n",
    "for tel_type in tel_types:\n",
    "#    positions = [x['pixel_positions'] for x in tel_table.iterrows() if x['type'] == tel_type.encode('ascii')][0]\n",
    "    camera_geometry = CameraGeometry.from_name(tel_type.split(\"_\")[1])\n",
    "    pos_x=camera_geometry.pix_x.value\n",
    "    pos_y=camera_geometry.pix_y.value\n",
    "    numpix = [x['num_pixels'] for x in tel_table.iterrows() if x['type'] == tel_type.encode('ascii')][0]\n",
    "    exec('my_images = f.root.{}'.format(tel_type))\n",
    "    my_indices = my_event['{}_indices'.format(tel_type)]\n",
    "    img_charge_s = np.zeros(numpix)\n",
    "    img_time_s = np.zeros(numpix)\n",
    "    print('type: {} pixels: {}'.format(tel_type,len(img_charge_s)))\n",
    "    for img_index in my_indices:\n",
    "        if img_index > 0:\n",
    "            img_charge = my_images[img_index]['charge']\n",
    "            img_charge_s += img_charge\n",
    "            img_time = my_images[img_index]['peakpos']\n",
    "            img_time_s += img_time\n",
    "            \n",
    "            plt.figure(figsize=(15,5))\n",
    "            plt.subplot(1, 2, 1)\n",
    "            plt.scatter(pos_x, pos_y, c=img_charge, s=tel_type_size[tel_type])\n",
    "            plt.axis('square')\n",
    "            plt.colorbar()\n",
    "            plt.subplot(1, 2, 2)\n",
    "            plt.scatter(pos_x, pos_y, c=img_time, s=tel_type_size[tel_type])\n",
    "            plt.axis('square')\n",
    "            plt.colorbar()\n",
    "            if saveplots:\n",
    "                plt.savefig('{}_{}_{}.png'.format(event_index,tel_type,tel_ids[list(my_indices).index(img_index)]),\\\n",
    "                            dpi = 300, bbox_inches='tight',transparent=True)\n",
    "            plt.show()\n",
    "            \n",
    "    if combine:\n",
    "        plt.figure(figsize=(15,5))\n",
    "        plt.subplot(1, 2, 1)\n",
    "        plt.scatter(pos_x[:len(img_charge_s)], pos_y[:len(img_charge_s)], c=img_charge_s, s=tel_type_size[tel_type])\n",
    "        plt.axis('square')\n",
    "        plt.colorbar()\n",
    "        plt.subplot(1, 2, 2)\n",
    "        plt.scatter(pos_x[:len(img_time_s)], pos_y[:len(img_time_s)], c=img_time_s, s=tel_type_size[tel_type])\n",
    "        plt.axis('square')\n",
    "        plt.colorbar()\n",
    "        if saveplots:\n",
    "            plt.savefig('{}_{}.png'.format(event_index,tel_type),\\\n",
    "                        dpi = 300, bbox_inches='tight',transparent=True)\n",
    "        plt.show()"
   ]
  }
 ],
 "metadata": {
  "kernelspec": {
   "display_name": "Python 3",
   "language": "python",
   "name": "python3"
  },
  "language_info": {
   "codemirror_mode": {
    "name": "ipython",
    "version": 3
   },
   "file_extension": ".py",
   "mimetype": "text/x-python",
   "name": "python",
   "nbconvert_exporter": "python",
   "pygments_lexer": "ipython3",
   "version": "3.7.3"
  }
 },
 "nbformat": 4,
 "nbformat_minor": 2
}
